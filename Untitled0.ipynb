{
 "metadata": {
  "name": "",
  "signature": "sha256:910d80f50182984323305d897d94b119bbf64aab1bfe3a2c0f1db1c4a5fb5dbe"
 },
 "nbformat": 3,
 "nbformat_minor": 0,
 "worksheets": [
  {
   "cells": [
    {
     "cell_type": "code",
     "collapsed": false,
     "input": [
      "import pystruct.datasets as toy\n",
      "from pystruct.utils import make_grid_edges\n",
      "X, Y = toy.generate_blocks(n_samples=3)"
     ],
     "language": "python",
     "metadata": {},
     "outputs": [],
     "prompt_number": 17
    },
    {
     "cell_type": "code",
     "collapsed": false,
     "input": [
      "def modify(x,y):\n",
      "    newX = []\n",
      "    newY = []\n",
      "    xmin = [2,3,4]\n",
      "    xmax = [10,9,8]\n",
      "    for i in range(len(x)):\n",
      "        eachX = x[i]\n",
      "        eachY = y[i]\n",
      "        newX.append(eachX[xmin[i]:xmax[i]])\n",
      "        newY.append(eachY[xmin[i]:xmax[i]])\n",
      "    return newX, newY\n",
      "newX, newY = modify(X,Y)\n"
     ],
     "language": "python",
     "metadata": {},
     "outputs": [],
     "prompt_number": 32
    },
    {
     "cell_type": "code",
     "collapsed": false,
     "input": [],
     "language": "python",
     "metadata": {},
     "outputs": [
      {
       "output_type": "stream",
       "stream": "stdout",
       "text": [
        "(8, 12)\n",
        "(6, 12)\n",
        "(4, 12)\n"
       ]
      }
     ],
     "prompt_number": 35
    },
    {
     "cell_type": "code",
     "collapsed": false,
     "input": [
      "from pystruct.models import GraphCRF\n",
      "from pystruct.learners import SubgradientSSVM\n",
      "\n",
      "crf = GraphCRF(inference_method='ad3')\n",
      "clf = SubgradientSSVM(crf, max_iter=200, C=100)"
     ],
     "language": "python",
     "metadata": {},
     "outputs": [],
     "prompt_number": 38
    },
    {
     "cell_type": "code",
     "collapsed": false,
     "input": [
      "from pystruct.utils import make_grid_edges\n",
      "G = [make_grid_edges(x) for x in newX]"
     ],
     "language": "python",
     "metadata": {},
     "outputs": [],
     "prompt_number": 55
    },
    {
     "cell_type": "code",
     "collapsed": false,
     "input": [
      "for each in newX:\n",
      "    print each.shape"
     ],
     "language": "python",
     "metadata": {},
     "outputs": [
      {
       "output_type": "stream",
       "stream": "stdout",
       "text": [
        "(8, 12, 2)\n",
        "(6, 12, 2)\n",
        "(4, 12, 2)\n"
       ]
      }
     ],
     "prompt_number": 48
    },
    {
     "cell_type": "code",
     "collapsed": false,
     "input": [
      "for each in G:\n",
      "    print each.shape"
     ],
     "language": "python",
     "metadata": {},
     "outputs": [
      {
       "output_type": "stream",
       "stream": "stdout",
       "text": [
        "(172, 2)\n",
        "(126, 2)\n",
        "(80, 2)\n"
       ]
      }
     ],
     "prompt_number": 57
    },
    {
     "cell_type": "code",
     "collapsed": false,
     "input": [
      "for each in G:\n",
      "    print each[:,0]"
     ],
     "language": "python",
     "metadata": {},
     "outputs": [
      {
       "output_type": "stream",
       "stream": "stdout",
       "text": [
        "[ 0  1  2  3  4  5  6  7  8  9 10 12 13 14 15 16 17 18 19 20 21 22 24 25 26\n",
        " 27 28 29 30 31 32 33 34 36 37 38 39 40 41 42 43 44 45 46 48 49 50 51 52 53\n",
        " 54 55 56 57 58 60 61 62 63 64 65 66 67 68 69 70 72 73 74 75 76 77 78 79 80\n",
        " 81 82 84 85 86 87 88 89 90 91 92 93 94  0  1  2  3  4  5  6  7  8  9 10 11\n",
        " 12 13 14 15 16 17 18 19 20 21 22 23 24 25 26 27 28 29 30 31 32 33 34 35 36\n",
        " 37 38 39 40 41 42 43 44 45 46 47 48 49 50 51 52 53 54 55 56 57 58 59 60 61\n",
        " 62 63 64 65 66 67 68 69 70 71 72 73 74 75 76 77 78 79 80 81 82 83]\n",
        "[ 0  1  2  3  4  5  6  7  8  9 10 12 13 14 15 16 17 18 19 20 21 22 24 25 26\n",
        " 27 28 29 30 31 32 33 34 36 37 38 39 40 41 42 43 44 45 46 48 49 50 51 52 53\n",
        " 54 55 56 57 58 60 61 62 63 64 65 66 67 68 69 70  0  1  2  3  4  5  6  7  8\n",
        "  9 10 11 12 13 14 15 16 17 18 19 20 21 22 23 24 25 26 27 28 29 30 31 32 33\n",
        " 34 35 36 37 38 39 40 41 42 43 44 45 46 47 48 49 50 51 52 53 54 55 56 57 58\n",
        " 59]\n",
        "[ 0  1  2  3  4  5  6  7  8  9 10 12 13 14 15 16 17 18 19 20 21 22 24 25 26\n",
        " 27 28 29 30 31 32 33 34 36 37 38 39 40 41 42 43 44 45 46  0  1  2  3  4  5\n",
        "  6  7  8  9 10 11 12 13 14 15 16 17 18 19 20 21 22 23 24 25 26 27 28 29 30\n",
        " 31 32 33 34 35]\n"
       ]
      }
     ],
     "prompt_number": 58
    },
    {
     "cell_type": "code",
     "collapsed": false,
     "input": [
      "X_flat = [x.reshape(-1, 2) for x in newX]\n",
      "Y_flat = [y.ravel() for y in newY]"
     ],
     "language": "python",
     "metadata": {},
     "outputs": [],
     "prompt_number": 65
    },
    {
     "cell_type": "code",
     "collapsed": false,
     "input": [
      "X_structured = zip(X_flat, G)\n"
     ],
     "language": "python",
     "metadata": {},
     "outputs": [],
     "prompt_number": 66
    },
    {
     "cell_type": "code",
     "collapsed": false,
     "input": [
      "clf.fit(X_structured, Y_flat)\n",
      "Y_pred = clf.predict(X_structured)"
     ],
     "language": "python",
     "metadata": {},
     "outputs": [],
     "prompt_number": 67
    },
    {
     "cell_type": "code",
     "collapsed": false,
     "input": [
      "reshp = [8,6,4]\n",
      "for i, each in enumerate(Y_pred):\n",
      "    print each.reshape(reshp[i],12)"
     ],
     "language": "python",
     "metadata": {},
     "outputs": [
      {
       "output_type": "stream",
       "stream": "stdout",
       "text": [
        "[[0 0 0 0 0 0 1 1 1 1 1 1]\n",
        " [0 0 0 0 0 0 1 1 1 1 1 1]\n",
        " [0 0 0 0 0 0 1 1 1 1 1 1]\n",
        " [0 0 0 0 0 0 1 1 1 1 1 1]\n",
        " [0 0 0 0 0 0 1 1 1 1 1 1]\n",
        " [0 0 0 0 0 0 1 1 1 1 1 1]\n",
        " [0 0 0 0 0 0 1 1 1 1 1 1]\n",
        " [0 0 0 0 0 0 1 1 1 1 1 1]]\n",
        "[[0 0 0 0 0 0 1 1 1 1 1 1]\n",
        " [0 0 0 0 0 0 1 1 1 1 1 1]\n",
        " [0 0 0 0 0 0 1 1 1 1 1 1]\n",
        " [0 0 0 0 0 0 1 1 1 1 1 1]\n",
        " [0 0 0 0 0 0 1 1 1 1 1 1]\n",
        " [0 0 0 0 0 0 1 1 1 1 1 1]]\n",
        "[[0 0 0 0 0 0 1 1 1 1 1 1]\n",
        " [0 0 0 0 0 0 1 1 1 1 1 1]\n",
        " [0 0 0 0 0 0 1 1 1 1 1 1]\n",
        " [0 0 0 0 0 0 1 1 1 1 1 1]]\n"
       ]
      }
     ],
     "prompt_number": 72
    },
    {
     "cell_type": "code",
     "collapsed": false,
     "input": [
      "from time import time\n",
      "import numpy as np\n",
      "\n",
      "from sklearn.datasets import load_iris\n",
      "from sklearn.cross_validation import train_test_split\n",
      "\n",
      "from pystruct.models import GraphCRF\n",
      "from pystruct.learners import NSlackSSVM\n",
      "\n",
      "iris = load_iris()\n",
      "X, y = iris.data, iris.target\n",
      "\n",
      "# make each example into a tuple of a single feature vector and an empty edge\n",
      "# list\n",
      "X_ = [(np.atleast_2d(x), np.empty((0, 2), dtype=np.int)) for x in X]\n",
      "Y = y.reshape(-1, 1)\n",
      "\n",
      "X_train, X_test, y_train, y_test = train_test_split(X_, Y)\n",
      "\n",
      "pbl = GraphCRF(inference_method='unary')\n",
      "svm = NSlackSSVM(pbl, C=100)\n",
      "\n",
      "\n",
      "start = time()\n",
      "svm.fit(X_train, y_train)\n",
      "time_svm = time() - start\n",
      "y_pred = np.vstack(svm.predict(X_test))\n",
      "print(\"Score with pystruct crf svm: %f (took %f seconds)\"\n",
      "      % (np.mean(y_pred == y_test), time_svm))"
     ],
     "language": "python",
     "metadata": {},
     "outputs": [
      {
       "output_type": "stream",
       "stream": "stdout",
       "text": [
        "Score with pystruct crf svm: 0.973684 (took 0.938278 seconds)\n"
       ]
      }
     ],
     "prompt_number": 73
    },
    {
     "cell_type": "code",
     "collapsed": false,
     "input": [
      "print X_[0]"
     ],
     "language": "python",
     "metadata": {},
     "outputs": [
      {
       "output_type": "stream",
       "stream": "stdout",
       "text": [
        "(array([[ 5.1,  3.5,  1.4,  0.2]]), array([], shape=(0, 2), dtype=int64))\n"
       ]
      }
     ],
     "prompt_number": 77
    },
    {
     "cell_type": "code",
     "collapsed": false,
     "input": [],
     "language": "python",
     "metadata": {},
     "outputs": []
    }
   ],
   "metadata": {}
  }
 ]
}