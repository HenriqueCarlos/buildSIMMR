{
 "metadata": {
  "name": "",
  "signature": "sha256:3ace954c944fa28ba49cd47b33af6c7178b83e2ef0adf30f6db2a971dc0e719c"
 },
 "nbformat": 3,
 "nbformat_minor": 0,
 "worksheets": [
  {
   "cells": [
    {
     "cell_type": "code",
     "collapsed": false,
     "input": [
      "#Make list of units\n",
      "def getUnitList():\n",
      "    unitFile = open('/Users/Mick/Desktop/FoodCapstone/buildSIMMR/units.txt')\n",
      "    units = []\n",
      "    for eachLine in unitFile:\n",
      "        splitLine = eachLine.rstrip().split(\",\")\n",
      "        for eachU in splitLine:\n",
      "            eachU = eachU.lstrip()\n",
      "            units.append(eachU)\n",
      "    fromUSDA = ['cube', 'fluid', 'individual', 'block', 'mini', 'bottle', 'lb', 'breast', 'Tbsp', 'stick', 'wing', 'medallion', 'ear', 'strips', 'skin', 'rack', 'slices', 'strip', 'medium', 'thigh', 'order', 'Cup', 'jar', 'pieces', 'large', 'link', 'can', 'chop', 'patty', 'container', 'packet', 'scoop', 'bar', 'tablespoon', 'unit', 'slice', 'fillet', 'tsp', 'piece', 'package', 'fl', 'tbsp', 'serving', 'cup', 'oz', 'inch']\n",
      "    units += fromUSDA\n",
      "    unstemmedUnits = units\n",
      "    units = [myStem.stem(each) for each in units]\n",
      "    return units"
     ],
     "language": "python",
     "metadata": {},
     "outputs": []
    }
   ],
   "metadata": {}
  }
 ]
}