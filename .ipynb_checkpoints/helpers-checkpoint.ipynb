{
 "metadata": {
  "name": "",
  "signature": "sha256:aa72d131c463300eea998daed3336b2f0fa125099bbabe0da684a04f49978bc9"
 },
 "nbformat": 3,
 "nbformat_minor": 0,
 "worksheets": [
  {
   "cells": [
    {
     "cell_type": "code",
     "collapsed": false,
     "input": [
      "import xml.etree.ElementTree as ET\n",
      "import os\n",
      "from tabulate import tabulate\n",
      "from nltk.util import ngrams\n",
      "from nltk import word_tokenize\n",
      "from nltk import FreqDist\n",
      "from nltk import stem\n",
      "from nltk import pos_tag\n",
      "from nltk import chunk\n",
      "from fuzzywuzzy import process\n",
      "\n",
      "import parseIngHelper as prsIngHp\n",
      "import manageTaggedData as mngTgDat\n",
      "from getLabel import buildGraph\n",
      "from getLabel import displayGraph\n",
      "from food import Food\n",
      "from ingMap import IngMap"
     ],
     "language": "python",
     "metadata": {},
     "outputs": []
    }
   ],
   "metadata": {}
  }
 ]
}