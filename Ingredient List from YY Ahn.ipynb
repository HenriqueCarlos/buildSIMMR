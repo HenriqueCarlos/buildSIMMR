{
 "metadata": {
  "name": "",
  "signature": "sha256:45f8082329cc9fe4516db3838d49bd8355829e783b419db6aff0facd65f79367"
 },
 "nbformat": 3,
 "nbformat_minor": 0,
 "worksheets": [
  {
   "cells": [
    {
     "cell_type": "code",
     "collapsed": false,
     "input": [
      "ingListsF = open('/Users/Mick/Desktop/FoodCapstone/scirep-cuisines-detail/allr_recipes.txt')\n",
      "ingListsF1 = open('/Users/Mick/Desktop/FoodCapstone/scirep-cuisines-detail/epic_recipes.txt')\n",
      "ingListsF2 = open('/Users/Mick/Desktop/FoodCapstone/scirep-cuisines-detail/menu_recipes.txt')\n",
      "allIngFs = [ingListsF,ingListsF1,ingListsF2]\n",
      "allIngs = []\n",
      "\n",
      "for eachF in allIngFs:\n",
      "    for line in eachF:\n",
      "        ings = line.split()[1:]\n",
      "        allIngs += ings\n",
      "\n",
      "dictIng, freqIng = getDictFreq(allIngs)\n",
      "\n",
      "for each in freqIng:\n",
      "    print (each)\n",
      "\n",
      "ingListF = open('/Users/Mick/Desktop/FoodCapstone/scirep-cuisines-detail/all_Ing.txt','w')\n",
      "for each in freqIng:\n",
      "    ingListF.write(each[0]+','+ str(each[1])+'\\n')\n",
      "ingListF.close()"
     ],
     "language": "python",
     "metadata": {},
     "outputs": []
    }
   ],
   "metadata": {}
  }
 ]
}